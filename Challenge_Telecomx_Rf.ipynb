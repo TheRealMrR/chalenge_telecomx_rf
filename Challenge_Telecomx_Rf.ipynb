{
  "nbformat": 4,
  "nbformat_minor": 0,
  "metadata": {
    "colab": {
      "provenance": [],
      "authorship_tag": "ABX9TyNCLvuyrtPOQmz+CcF89CRF",
      "include_colab_link": true
    },
    "kernelspec": {
      "name": "python3",
      "display_name": "Python 3"
    },
    "language_info": {
      "name": "python"
    }
  },
  "cells": [
    {
      "cell_type": "markdown",
      "metadata": {
        "id": "view-in-github",
        "colab_type": "text"
      },
      "source": [
        "<a href=\"https://colab.research.google.com/github/TheRealMrR/chalenge_telecomx_rf/blob/main/Challenge_Telecomx_Rf.ipynb\" target=\"_parent\"><img src=\"https://colab.research.google.com/assets/colab-badge.svg\" alt=\"Open In Colab\"/></a>"
      ]
    },
    {
      "cell_type": "markdown",
      "source": [
        "✅ Cargar los datos directamente desde la API utilizando Python.\n",
        "\n",
        "✅ Convertir los datos a un DataFrame de Pandas para facilitar su"
      ],
      "metadata": {
        "id": "5zSY2-8QbYWK"
      }
    },
    {
      "cell_type": "markdown",
      "source": [
        "#📌 Extracción"
      ],
      "metadata": {
        "id": "WXVRLzOFbv9w"
      }
    },
    {
      "cell_type": "code",
      "source": [
        "#Se asigna la variable url la ubicacion de nuestros datos\n",
        "url = 'https://raw.githubusercontent.com/ingridcristh/challenge2-data-science-LATAM/refs/heads/main/TelecomX_Data.json'"
      ],
      "metadata": {
        "id": "XOyhu3lgbopj"
      },
      "execution_count": 2,
      "outputs": []
    },
    {
      "cell_type": "code",
      "source": [
        "#Convertimos los datos en un dataframe usando la biclioteca Pandas\n",
        "\n",
        "import pandas as pd\n"
      ],
      "metadata": {
        "id": "RNem4IXdb6mP"
      },
      "execution_count": 4,
      "outputs": []
    },
    {
      "cell_type": "code",
      "source": [],
      "metadata": {
        "id": "sCGDLLIFcMnL"
      },
      "execution_count": null,
      "outputs": []
    }
  ]
}